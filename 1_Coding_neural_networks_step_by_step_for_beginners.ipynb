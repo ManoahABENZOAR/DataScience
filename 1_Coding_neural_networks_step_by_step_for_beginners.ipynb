{
  "nbformat": 4,
  "nbformat_minor": 0,
  "metadata": {
    "colab": {
      "provenance": []
    },
    "kernelspec": {
      "name": "python3",
      "display_name": "Python 3"
    },
    "language_info": {
      "name": "python"
    }
  },
  "cells": [
    {
      "cell_type": "markdown",
      "source": [
        "# Coding a Neuron\n",
        "\n",
        "Time to implement a neuron! We’ll use NumPy, a popular and powerful computing library for Python, to help us do math:"
      ],
      "metadata": {
        "id": "cfYT8oti0Sn4"
      }
    },
    {
      "cell_type": "code",
      "execution_count": null,
      "metadata": {
        "id": "wXaRudwoz8Fz"
      },
      "outputs": [],
      "source": [
        "import numpy as np\n",
        "\n",
        "# To complete\n",
        "def sigmoid(x):\n",
        "  # Our activation function: f(x) = 1 / (1 + e^(-x))\n",
        "  res= 1 / (1+np.exp(-x))\n",
        "               # To complete\n",
        "\n",
        "  return res\n",
        "\n",
        "class Neuron:\n",
        "  def __init__(self, weights, bias):\n",
        "    self.weights = weights\n",
        "    self.bias = bias\n",
        "\n",
        "  # To complete\n",
        "  def feedforward(self, inputs):\n",
        "    # Weight inputs, add bias, then use the activation function\n",
        "    res = sigmoid( np.dot(self.weights,inputs) + self.bias )\n",
        "\n",
        "    return res"
      ]
    },
    {
      "cell_type": "code",
      "source": [
        "weights = np.array([0, 1]) # w1 = 0, w2 = 1\n",
        "bias = 4                   # b = 0\n",
        "n = Neuron(weights, bias)\n",
        "\n",
        "x = np.array([2, 3])       # x1 = 2, x2 = 3\n",
        "print(n.feedforward(x))    # Expected result : 0.9990889488055994"
      ],
      "metadata": {
        "id": "ItoakTTl0gs9",
        "colab": {
          "base_uri": "https://localhost:8080/"
        },
        "outputId": "009a20d5-1421-4c63-fe2a-268d2b68091c"
      },
      "execution_count": null,
      "outputs": [
        {
          "output_type": "stream",
          "name": "stdout",
          "text": [
            "0.9990889488055994\n"
          ]
        }
      ]
    },
    {
      "cell_type": "markdown",
      "source": [
        "Recognize those numbers? That’s the example we just did! We get the same answer of 0.999."
      ],
      "metadata": {
        "id": "InIkx40O1LqZ"
      }
    },
    {
      "cell_type": "code",
      "source": [
        "# ... code from previous section here\n",
        "\n",
        "class OurNeuralNetwork:\n",
        "  '''\n",
        "  A neural network with:\n",
        "    - 2 inputs\n",
        "    - a hidden layer with 2 neurons (h1, h2)\n",
        "    - an output layer with 1 neuron (o1)\n",
        "  Each neuron has the same weights and bias:\n",
        "    - w = [0, 1]\n",
        "    - b = 0\n",
        "  '''\n",
        "  def __init__(self):\n",
        "    weights = np.array([0, 1])\n",
        "    bias = 0\n",
        "\n",
        "    # The Neuron class here is from the previous section\n",
        "    self.h1 = Neuron(weights, bias)\n",
        "    self.h2 = Neuron(weights, bias)\n",
        "    self.o1 = Neuron(weights, bias)\n",
        "\n",
        "  # To complete\n",
        "  def feedforward(self, x):\n",
        "    out_h1 = self.h1.feedforward(x)# To complete\n",
        "    out_h2 = self.h2.feedforward(x)# To complete\n",
        "\n",
        "    # The inputs for o1 are the outputs from h1 and h2\n",
        "    out_o1 = self.o1.feedforward(np.array([out_h1,out_h2]) )# To complete\n",
        "    # np.array cause feedforward takes an array as input\n",
        "    return out_o1\n"
      ],
      "metadata": {
        "id": "pfNhiKW81MLS"
      },
      "execution_count": null,
      "outputs": []
    },
    {
      "cell_type": "code",
      "source": [
        "network = OurNeuralNetwork()\n",
        "x = np.array([2, 3])\n",
        "print(network.feedforward(x)) # 0.7216325609518421"
      ],
      "metadata": {
        "id": "CkmiAl_x3NX8",
        "colab": {
          "base_uri": "https://localhost:8080/"
        },
        "outputId": "1f592e86-0f6f-4fa1-8778-f6edef80f8ad"
      },
      "execution_count": null,
      "outputs": [
        {
          "output_type": "stream",
          "name": "stdout",
          "text": [
            "0.7216325609518421\n"
          ]
        }
      ]
    },
    {
      "cell_type": "markdown",
      "source": [
        "We got 0.7216 again! Looks like it works."
      ],
      "metadata": {
        "id": "_CbusHr03gYX"
      }
    },
    {
      "cell_type": "markdown",
      "source": [
        "# MSE Loss\n",
        "Here’s some code to calculate loss for us:"
      ],
      "metadata": {
        "id": "5TBgxIRlhJvL"
      }
    },
    {
      "cell_type": "code",
      "source": [
        "# To complete\n",
        "def mse_loss(y_true, y_pred):\n",
        "  # y_true and y_pred are numpy arrays of the same length.\n",
        "  somme = 0\n",
        "  for i in range(len(y_true)) :\n",
        "    somme += (y_true[i] - y_pred[i]) ** 2\n",
        "  mse = 1/len(y_true) * somme # To complete\n",
        "  # OR correction prof : ((y_true - y_pred) ** 2).mean()\n",
        "                      # = 1/n * somme((yi - yi pred) **2)\n",
        "\n",
        "  return mse\n",
        "\n",
        "y_true = np.array([1, 0, 0, 1])\n",
        "y_pred = np.array([0, 0, 0, 0])\n",
        "\n",
        "print(mse_loss(y_true, y_pred)) # 0.5"
      ],
      "metadata": {
        "id": "Qdih2m_q3gwT",
        "colab": {
          "base_uri": "https://localhost:8080/"
        },
        "outputId": "6ca93472-874c-4438-dbb3-0d342c15dba9"
      },
      "execution_count": null,
      "outputs": [
        {
          "output_type": "stream",
          "name": "stdout",
          "text": [
            "0.5\n"
          ]
        }
      ]
    },
    {
      "cell_type": "markdown",
      "source": [
        "# A Complete Neural Network"
      ],
      "metadata": {
        "id": "lop5RBZckzxs"
      }
    },
    {
      "cell_type": "code",
      "source": [
        "Image('Capture d’écran 2022-09-09 à 16.10.47.png')"
      ],
      "metadata": {
        "colab": {
          "base_uri": "https://localhost:8080/",
          "height": 506
        },
        "id": "9k-PQ9X6ly5H",
        "outputId": "9b57951e-e7f6-49aa-ccf5-47e3d24a172f"
      },
      "execution_count": null,
      "outputs": [
        {
          "output_type": "execute_result",
          "data": {
            "image/png": "[encoded data removed]",
            "text/plain": [
              "<IPython.core.display.Image object>"
            ]
          },
          "metadata": {},
          "execution_count": 3
        }
      ]
    },
    {
      "cell_type": "code",
      "source": [
        "# To complete\n",
        "def deriv_sigmoid(x):\n",
        "  # Derivative of sigmoid: f'(x) = f(x) * (1 - f(x))\n",
        "\n",
        "  return sigmoid(x) * (1 - sigmoid(x))\n",
        "\n",
        "class OurNeuralNetwork:\n",
        "  '''\n",
        "  A neural network with:\n",
        "    - 2 inputs\n",
        "    - a hidden layer with 2 neurons (h1, h2)\n",
        "    - an output layer with 1 neuron (o1)\n",
        "  *** DISCLAIMER ***:\n",
        "  The code below is intended to be simple and educational, NOT optimal.\n",
        "  Real neural net code looks nothing like this. DO NOT use this code.\n",
        "  Instead, read/run it to understand how this specific network works.\n",
        "  '''\n",
        "  def __init__(self):\n",
        "    # Weights\n",
        "    self.w1 = np.random.normal()\n",
        "    self.w2 = np.random.normal()\n",
        "    self.w3 = np.random.normal()\n",
        "    self.w4 = np.random.normal()\n",
        "    self.w5 = np.random.normal()\n",
        "    self.w6 = np.random.normal()\n",
        "\n",
        "    # Biases\n",
        "    self.b1 = np.random.normal()\n",
        "    self.b2 = np.random.normal()\n",
        "    self.b3 = np.random.normal()\n",
        "\n",
        "  # To complete\n",
        "  # The Neuron class here is from the previous section\n",
        "    self.h1 = Neuron(weights, bias)\n",
        "    self.h2 = Neuron(weights, bias)\n",
        "    self.o1 = Neuron(weights, bias)\n",
        "\n",
        "  def feedforward(self, x): #To complete\n",
        "    # x is a numpy array with 2 elements.\n",
        "    out_h1 = self.h1.feedforward(x)\n",
        "    out_h2 = self.h2.feedforward(x)\n",
        "\n",
        "    # The inputs for o1 are the outputs from h1 and h2\n",
        "    o1 = self.o1.feedforward(np.array([out_h1,out_h2]) )\n",
        "    return o1\n",
        "\n",
        "  def train(self, data, all_y_trues):\n",
        "    '''\n",
        "    - data is a (n x 2) numpy array, n = # of samples in the dataset.\n",
        "    - all_y_trues is a numpy array with n elements.\n",
        "      Elements in all_y_trues correspond to those in data.\n",
        "    '''\n",
        "    learn_rate = 0.1\n",
        "    epochs = 1000 # number of times to loop through the entire dataset\n",
        "\n",
        "    for epoch in range(epochs):\n",
        "      for x, y_true in zip(data, all_y_trues):\n",
        "        # --- Do a feedforward (we'll need these values later)\n",
        "        sum_h1 = self.w1 * x[0] + self.w2 * x[1] + self.b1  # To complete\n",
        "        h1 = sigmoid(sum_h1)  # To complete\n",
        "\n",
        "        sum_h2 = self.w3 * x[0] + self.w4 * x[1] + self.b2  # To complete\n",
        "        h2 = sigmoid(sum_h2)# To complete\n",
        "\n",
        "        sum_o1 = self.w5 * h1 + self.w6 * h2 + self.b3  # To complete\n",
        "        o1 = sigmoid(sum_o1)# To complete\n",
        "        y_pred = o1# To complete\n",
        "\n",
        "        # --- Calculate partial derivatives.\n",
        "        # --- Naming: d_L_d_w1 represents \"partial L / partial w1\"\n",
        "            # ((y_true - y_pred) ** 2).mean()\n",
        "        d_L_d_ypred = -2 * (y_true-y_pred) # To complete\n",
        "\n",
        "        # Neuron o1\n",
        "        d_ypred_d_w5 = h1 * deriv_sigmoid(sum_o1) # self.h1 * deriv_sigmoid(self.w5*self.h1 + self.w6*self.h2 + self.b3)# To complete\n",
        "        d_ypred_d_w6 = h2 * deriv_sigmoid(sum_o1) # self.h2 * deriv_sigmoid(self.w5*self.h1 + self.w6*self.h2 + self.b3)# To complete\n",
        "        d_ypred_d_b3 = deriv_sigmoid(sum_o1) # To complete\n",
        "\n",
        "        d_ypred_d_h1 = self.w5 * deriv_sigmoid(sum_o1) # self.w5 * deriv_sigmoid(self.w5*self.h1 + self.w6*self.h2 + self.b3)# To complete\n",
        "        d_ypred_d_h2 = self.w6 * deriv_sigmoid(sum_o1) # self.w6 * deriv_sigmoid(self.w5*self.h1 + self.w6*self.h2 + self.b3)# To complete\n",
        "\n",
        "        # Neuron h1\n",
        "        d_h1_d_w1 = x[0] * deriv_sigmoid(sum_h1) # x[0] * deriv_sigmoid(self.w1*self.x[0] + self.w2*self.x[1] + self.b1)# To complete\n",
        "        d_h1_d_w2 = x[1] * deriv_sigmoid(sum_h1) # x[1] * deriv_sigmoid(self.w1*self.x[0] + self.w2*self.x[1] + self.b1)# To complete\n",
        "        d_h1_d_b1 =  deriv_sigmoid(sum_h1) # To complete\n",
        "\n",
        "        # Neuron h2\n",
        "        d_h2_d_w3 = x[0] * deriv_sigmoid(sum_h2) # x[0] * deriv_sigmoid(self.w3*self.x[0] + self.w4*self.x[1] + self.b2)# To complete\n",
        "        d_h2_d_w4 = x[1] * deriv_sigmoid(sum_h2) # x[1] * deriv_sigmoid(self.w3*self.x[0] + self.w4*self.x[1] + self.b2)# To complete\n",
        "        d_h2_d_b2 = deriv_sigmoid(sum_h2) # To complete\n",
        "\n",
        "        # --- Update weights and biases\n",
        "        # Neuron h1\n",
        "        self.w1 -= learning_rate * d_L_d_ypred *  # To complete\n",
        "        self.w2 -= # To complete\n",
        "        self.b1 -= # To complete\n",
        "\n",
        "        # Neuron h2\n",
        "        self.w3 -= # To complete\n",
        "        self.w4 -= # To complete\n",
        "        self.b2 -= # To complete\n",
        "\n",
        "        # Neuron o1\n",
        "        self.w5 -= # To complete\n",
        "        self.w6 -= # To complete\n",
        "        self.b3 -= learning_rate * d_L_d_ypred * # To complete\n",
        "\n",
        "      # --- Calculate total loss at the end of each epoch\n",
        "      if epoch % 10 == 0:\n",
        "        y_preds = np.apply_along_axis(self.feedforward, 1, data)\n",
        "        loss = mse_loss(all_y_trues, y_preds)\n",
        "        print(\"Epoch %d loss: %.3f\" % (epoch, loss))\n",
        "\n",
        "# Define dataset\n",
        "data = np.array([\n",
        "  [-2, -1],  # Alice\n",
        "  [25, 6],   # Bob\n",
        "  [17, 4],   # Charlie\n",
        "  [-15, -6], # Diana\n",
        "])\n",
        "all_y_trues = np.array([\n",
        "  1, # Alice\n",
        "  0, # Bob\n",
        "  0, # Charlie\n",
        "  1, # Diana\n",
        "])\n",
        "\n",
        "# Train our neural network!\n",
        "network = OurNeuralNetwork()\n",
        "network.train(data, all_y_trues)"
      ],
      "metadata": {
        "id": "EtexrUdIk1i8"
      },
      "execution_count": null,
      "outputs": []
    },
    {
      "cell_type": "markdown",
      "source": [
        "We can now use the network to predict genders:"
      ],
      "metadata": {
        "id": "807i6C_KmmwZ"
      }
    },
    {
      "cell_type": "code",
      "source": [
        "# Make some predictions\n",
        "emily = np.array([-7, -3]) # 128 pounds, 63 inches\n",
        "frank = np.array([20, 2])  # 155 pounds, 68 inches\n",
        "print(\"Emily: %.3f\" % network.feedforward(emily)) # 0.951 - F\n",
        "print(\"Frank: %.3f\" % network.feedforward(frank)) # 0.039 - M"
      ],
      "metadata": {
        "id": "m9pkDyM5moMJ"
      },
      "execution_count": null,
      "outputs": []
    }
  ]
}